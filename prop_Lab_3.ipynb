{
  "cells": [
    {
      "cell_type": "markdown",
      "metadata": {
        "id": "view-in-github",
        "colab_type": "text"
      },
      "source": [
        "<a href=\"https://colab.research.google.com/github/fawziafaraag/statistic-probabilty/blob/main/prop_Lab_3.ipynb\" target=\"_parent\"><img src=\"https://colab.research.google.com/assets/colab-badge.svg\" alt=\"Open In Colab\"/></a>"
      ]
    },
    {
      "cell_type": "markdown",
      "metadata": {
        "id": "RqPSWbIHsjKF"
      },
      "source": [
        "# LAB 3: Probability Distributions and Central Limit Theorem\n",
        "\n",
        "In this lab you will use python to study the following topics:\n",
        "\n",
        "- How to sample from different distributions functions.\n",
        "- Calculate arthemitic mean, sample variance, and sample standard deviation for different distributions functions.\n",
        "- How to simulate central limit theorem for different distributions functions."
      ]
    },
    {
      "cell_type": "markdown",
      "metadata": {
        "id": "u4uNB2IzsjKH"
      },
      "source": [
        "# First: you should run this cell"
      ]
    },
    {
      "cell_type": "code",
      "execution_count": null,
      "metadata": {
        "id": "Iit7IwHTsjKI"
      },
      "outputs": [],
      "source": [
        "# Make all numpy available via shorter 'np' prefix\n",
        "import numpy as np\n",
        "import pandas as pd\n",
        "import seaborn as sns\n",
        "# matplotlib library\n",
        "import matplotlib.pyplot as plt"
      ]
    },
    {
      "cell_type": "markdown",
      "metadata": {
        "id": "KQHN7i9QsjKK"
      },
      "source": [
        "# Problem 1\n",
        "a) Use the numpy function [numpy.random.normal](https://numpy.org/doc/stable/reference/random/generated/numpy.random.normal.html) to generate a standard Gaussian random variable $X$ (zero mean and unit variance).\n",
        "\n",
        "- Use histogram to plot the estimated PDF of the random variable $X$\n",
        "- Compute the true \"analytical\" PDF of $X$ . Plot the true PDF on the top of the histogram figure.\n",
        "- Calculate the sample mean and the sample variance."
      ]
    },
    {
      "cell_type": "code",
      "source": [
        "from scipy.stats import norm\n",
        "\n",
        "\n",
        "# Generate some data for this\n",
        "# demonstration.\n",
        "data = np.random.normal(0, 1, 10000)\n",
        "\n",
        "# Fit a normal distribution to\n",
        "# the data:\n",
        "# mean and standard deviation\n",
        "mu, std = norm.fit(data)\n",
        "\n",
        "# Plot the histogram.\n",
        "plt.hist(data, bins=25, density=True, alpha=0.6, color='b')\n",
        "#bins :This returns the edges of the bins.\n",
        "#alpha:trasparency\n",
        "# Plot the PDF.\n",
        "xmin, xmax = plt.xlim()\n",
        "#The function xlim() within the Pyplot module of the Matplotlib library is used to obtain or set the x limit of this axis.\n",
        "#np.linspace(start, stop, n.of samples)\n",
        "x = np.linspace(xmin, xmax, 100)\n",
        "p = norm.pdf(x, mu, std)\n",
        "\n",
        "plt.plot(x, p, linewidth=2,color='r')\n",
        "print(\"Sample mean:\",mu)\n",
        "print(\"Sample varince:\",pow(std,2))\n",
        "plt.show()\n"
      ],
      "metadata": {
        "colab": {
          "base_uri": "https://localhost:8080/",
          "height": 300
        },
        "id": "KPVjJrstCv4d",
        "outputId": "cb0e86a9-013a-459a-a249-ea8c47ee0dfd"
      },
      "execution_count": null,
      "outputs": [
        {
          "output_type": "stream",
          "name": "stdout",
          "text": [
            "Sample mean: 0.002595950383634606\n",
            "Sample varince: 1.0163844494601633\n"
          ]
        },
        {
          "output_type": "display_data",
          "data": {
            "text/plain": [
              "<Figure size 432x288 with 1 Axes>"
            ],
            "image/png": "[encoded data removed]"
          },
          "metadata": {
            "needs_background": "light"
          }
        }
      ]
    },
    {
      "cell_type": "markdown",
      "metadata": {
        "id": "Px-XKX1MsjKL"
      },
      "source": [
        "b) Repeat (a) for a Gaussian random variable $Y$ with $mean=3$ and $variance=4$. "
      ]
    },
    {
      "cell_type": "code",
      "source": [
        "\n",
        "from scipy.stats import norm\n",
        "\n",
        "\n",
        "# Generate some data for this\n",
        "# demonstration.\n",
        "y = np.random.normal(3, 2, 10000)\n",
        "\n",
        "# Fit a normal distribution to\n",
        "# the data:\n",
        "# mean and standard deviation\n",
        "mu, std = norm.fit(y)\n",
        "\n",
        "# Plot the histogram.\n",
        "plt.hist(y, bins=25, density=True, alpha=0.6, color='b')\n",
        "#bins :This returns the edges of the bins.\n",
        "#alpha:trasparency\n",
        "# Plot the PDF.\n",
        "xmin, xmax = plt.xlim()\n",
        "#The function xlim() within the Pyplot module of the Matplotlib library is used to obtain or set the x limit of this axis.\n",
        "#np.linspace(start, stop, n.of samples)\n",
        "x = np.linspace(xmin, xmax, 100)\n",
        "p = norm.pdf(x, mu, std)\n",
        "\n",
        "plt.plot(x, p, linewidth=2,color='r')\n",
        "print(\"Sample mean:\",mu)\n",
        "print(\"Sample varince:\",pow(std,2))\n",
        "plt.show()"
      ],
      "metadata": {
        "colab": {
          "base_uri": "https://localhost:8080/",
          "height": 300
        },
        "id": "X4y5sJ_-r0p6",
        "outputId": "ae12767a-21c6-4e52-b636-f9c5cf2d0d5d"
      },
      "execution_count": null,
      "outputs": [
        {
          "output_type": "stream",
          "name": "stdout",
          "text": [
            "Sample mean: 3.0274927884294613\n",
            "Sample varince: 3.9592349228483967\n"
          ]
        },
        {
          "output_type": "display_data",
          "data": {
            "text/plain": [
              "<Figure size 432x288 with 1 Axes>"
            ],
            "image/png": "[encoded data removed]"
          },
          "metadata": {
            "needs_background": "light"
          }
        }
      ]
    },
    {
      "cell_type": "markdown",
      "metadata": {
        "id": "2OOsjN4NsjKM"
      },
      "source": [
        "C) Repeat (a) for an exponential random variable with $\\lambda = 1$ using the \n",
        "\n",
        "---\n",
        "\n",
        "numpy function [numpy.random.exponential](https://numpy.org/doc/stable/reference/random/generated/numpy.random.exponential.html)"
      ]
    },
    {
      "cell_type": "code",
      "source": [
        "# generate data\n",
        "x = np.arange(0, 8, 0.1)#(start,stop,step)\n",
        "y = 1 * np.exp(-1*x) #λe^-λ\n",
        "# plot\n",
        "data = np.random.exponential(1,100000)\n",
        "plt.figure(figsize=(9,5))\n",
        "plt.plot(x, y, color='r',linewidth=2)\n",
        "plt.xticks(fontsize=14)\n",
        "plt.yticks(fontsize=14)\n",
        "plt.hist(data, bins=40, density=True, alpha=0.6, color='b')\n",
        "plt.show()\n",
        "print(\"Sample mean:\",data.mean())\n",
        "print(\"Sample variance:\",data.var())"
      ],
      "metadata": {
        "colab": {
          "base_uri": "https://localhost:8080/",
          "height": 359
        },
        "id": "Hdd5K4ui1bXa",
        "outputId": "ac43133d-85bb-47d7-cc30-936cdbbbde9b"
      },
      "execution_count": null,
      "outputs": [
        {
          "output_type": "display_data",
          "data": {
            "text/plain": [
              "<Figure size 648x360 with 1 Axes>"
            ],
            "image/png": "[encoded data removed]"
          },
          "metadata": {
            "needs_background": "light"
          }
        },
        {
          "output_type": "stream",
          "name": "stdout",
          "text": [
            "Sample mean: 0.9963486337388883\n",
            "Sample variance: 0.9897143640116016\n"
          ]
        }
      ]
    },
    {
      "cell_type": "markdown",
      "metadata": {
        "id": "kvBWgPgysjKN"
      },
      "source": [
        "d) Repeat (a) for an exponential random variable with $\\lambda = 0.5$"
      ]
    },
    {
      "cell_type": "code",
      "source": [
        "# generate data\n",
        "x = np.arange(0,15, 0.1)#(start,stop,step)\n",
        "y = 0.5 * np.exp(-0.5*x) #λe^-λx\n",
        "# plot\n",
        "data = np.random.exponential(2,1000000)#1/λ\n",
        "plt.figure(figsize=(9,5))\n",
        "plt.plot(x, y, color='r',linewidth=2)\n",
        "plt.xticks(fontsize=14)\n",
        "plt.yticks(fontsize=14)\n",
        "plt.hist(data, bins=40, density=True, alpha=0.6, color='b')\n",
        "plt.show()\n",
        "print(\"Sample mean:\",data.mean())\n",
        "print(\"Sample variance:\",data.var())"
      ],
      "metadata": {
        "colab": {
          "base_uri": "https://localhost:8080/",
          "height": 359
        },
        "id": "bCt97zqhacqd",
        "outputId": "f3b80a07-85c5-4bb6-a295-bec02647ca5d"
      },
      "execution_count": null,
      "outputs": [
        {
          "output_type": "display_data",
          "data": {
            "text/plain": [
              "<Figure size 648x360 with 1 Axes>"
            ],
            "image/png": "[encoded data removed]"
          },
          "metadata": {
            "needs_background": "light"
          }
        },
        {
          "output_type": "stream",
          "name": "stdout",
          "text": [
            "Sample mean: 2.00023569954268\n",
            "Sample variance: 4.001881025009715\n"
          ]
        }
      ]
    },
    {
      "cell_type": "markdown",
      "metadata": {
        "id": "ID319EkKsjKO"
      },
      "source": [
        "# Problem 2: Practicing the Central Limit Theorem\n",
        "Use Python to simulate the Central Limit Theorem for the following random i.i.d variables and check that the higher the number of number the variables, the more the mean of subsets behave like a gaussian random variable.\n",
        "\n",
        "a) Exponential random variable with $\\lambda = 0.5$"
      ]
    },
    {
      "cell_type": "code",
      "source": [
        "sample=lambda:np.mean(np.random.exponential(2,size=10))\n",
        "x=[sample() for _ in range(80000)]\n",
        "plt.hist(x,bins=40)"
      ],
      "metadata": {
        "colab": {
          "base_uri": "https://localhost:8080/",
          "height": 560
        },
        "id": "TzaZKZTLxKQj",
        "outputId": "04c15ea0-60ba-4b0c-f7a6-036fe3d0324a"
      },
      "execution_count": null,
      "outputs": [
        {
          "output_type": "execute_result",
          "data": {
            "text/plain": [
              "(array([7.000e+00, 6.300e+01, 2.550e+02, 7.630e+02, 1.696e+03, 3.091e+03,\n",
              "        4.715e+03, 6.040e+03, 7.112e+03, 7.780e+03, 7.824e+03, 7.546e+03,\n",
              "        6.841e+03, 5.890e+03, 4.886e+03, 4.110e+03, 3.112e+03, 2.329e+03,\n",
              "        1.842e+03, 1.271e+03, 8.810e+02, 6.350e+02, 4.650e+02, 2.690e+02,\n",
              "        2.090e+02, 1.470e+02, 7.600e+01, 5.600e+01, 3.500e+01, 2.100e+01,\n",
              "        1.300e+01, 5.000e+00, 8.000e+00, 1.000e+00, 1.000e+00, 3.000e+00,\n",
              "        0.000e+00, 1.000e+00, 0.000e+00, 1.000e+00]),\n",
              " array([0.26885701, 0.41941266, 0.56996831, 0.72052395, 0.8710796 ,\n",
              "        1.02163525, 1.17219089, 1.32274654, 1.47330219, 1.62385783,\n",
              "        1.77441348, 1.92496913, 2.07552477, 2.22608042, 2.37663607,\n",
              "        2.52719171, 2.67774736, 2.828303  , 2.97885865, 3.1294143 ,\n",
              "        3.27996994, 3.43052559, 3.58108124, 3.73163688, 3.88219253,\n",
              "        4.03274818, 4.18330382, 4.33385947, 4.48441512, 4.63497076,\n",
              "        4.78552641, 4.93608205, 5.0866377 , 5.23719335, 5.38774899,\n",
              "        5.53830464, 5.68886029, 5.83941593, 5.98997158, 6.14052723,\n",
              "        6.29108287]),\n",
              " <a list of 40 Patch objects>)"
            ]
          },
          "metadata": {},
          "execution_count": 237
        },
        {
          "output_type": "display_data",
          "data": {
            "text/plain": [
              "<Figure size 432x288 with 1 Axes>"
            ],
            "image/png": "[encoded data removed]"
          },
          "metadata": {
            "needs_background": "light"
          }
        }
      ]
    },
    {
      "cell_type": "code",
      "source": [
        "sample=lambda:np.mean(np.random.exponential(2,size=10))\n",
        "x=[sample() for _ in range(70000)]\n",
        "plt.hist(x,bins=40)"
      ],
      "metadata": {
        "colab": {
          "base_uri": "https://localhost:8080/",
          "height": 560
        },
        "id": "uX6khQwGzhvf",
        "outputId": "dddfb91f-2c1d-40d3-9864-4e55d9b92749"
      },
      "execution_count": null,
      "outputs": [
        {
          "output_type": "execute_result",
          "data": {
            "text/plain": [
              "(array([3.300e+01, 1.810e+02, 6.360e+02, 1.524e+03, 3.029e+03, 4.475e+03,\n",
              "        5.779e+03, 6.983e+03, 7.349e+03, 7.403e+03, 6.746e+03, 6.034e+03,\n",
              "        5.036e+03, 4.018e+03, 3.087e+03, 2.325e+03, 1.683e+03, 1.218e+03,\n",
              "        8.650e+02, 5.820e+02, 3.660e+02, 2.450e+02, 1.620e+02, 8.800e+01,\n",
              "        6.300e+01, 4.400e+01, 1.700e+01, 1.200e+01, 5.000e+00, 5.000e+00,\n",
              "        1.000e+00, 3.000e+00, 2.000e+00, 0.000e+00, 0.000e+00, 0.000e+00,\n",
              "        0.000e+00, 0.000e+00, 0.000e+00, 1.000e+00]),\n",
              " array([0.37078478, 0.53257826, 0.69437175, 0.85616524, 1.01795873,\n",
              "        1.17975221, 1.3415457 , 1.50333919, 1.66513268, 1.82692616,\n",
              "        1.98871965, 2.15051314, 2.31230663, 2.47410011, 2.6358936 ,\n",
              "        2.79768709, 2.95948058, 3.12127406, 3.28306755, 3.44486104,\n",
              "        3.60665453, 3.76844801, 3.9302415 , 4.09203499, 4.25382848,\n",
              "        4.41562196, 4.57741545, 4.73920894, 4.90100242, 5.06279591,\n",
              "        5.2245894 , 5.38638289, 5.54817637, 5.70996986, 5.87176335,\n",
              "        6.03355684, 6.19535032, 6.35714381, 6.5189373 , 6.68073079,\n",
              "        6.84252427]),\n",
              " <a list of 40 Patch objects>)"
            ]
          },
          "metadata": {},
          "execution_count": 241
        },
        {
          "output_type": "display_data",
          "data": {
            "text/plain": [
              "<Figure size 432x288 with 1 Axes>"
            ],
            "image/png": "[encoded data removed]"
          },
          "metadata": {
            "needs_background": "light"
          }
        }
      ]
    },
    {
      "cell_type": "code",
      "source": [
        "sample=lambda:np.mean(np.random.exponential(2,size=1000))\n",
        "x=[sample() for _ in range(80000)]\n",
        "plt.hist(x,bins=40)"
      ],
      "metadata": {
        "colab": {
          "base_uri": "https://localhost:8080/",
          "height": 560
        },
        "id": "hhixGE7Zzv2J",
        "outputId": "51a5e9dc-8277-4f42-f764-7d9277b7aeee"
      },
      "execution_count": null,
      "outputs": [
        {
          "output_type": "execute_result",
          "data": {
            "text/plain": [
              "(array([1.000e+00, 0.000e+00, 1.000e+00, 4.000e+00, 1.100e+01, 1.900e+01,\n",
              "        3.900e+01, 9.000e+01, 1.510e+02, 2.940e+02, 5.060e+02, 8.590e+02,\n",
              "        1.293e+03, 1.924e+03, 2.686e+03, 3.620e+03, 4.395e+03, 5.351e+03,\n",
              "        6.270e+03, 6.743e+03, 6.931e+03, 6.901e+03, 6.525e+03, 5.740e+03,\n",
              "        4.978e+03, 4.093e+03, 3.222e+03, 2.451e+03, 1.699e+03, 1.198e+03,\n",
              "        8.250e+02, 5.210e+02, 2.920e+02, 1.750e+02, 8.900e+01, 5.500e+01,\n",
              "        2.000e+01, 1.500e+01, 1.100e+01, 2.000e+00]),\n",
              " array([1.71185458, 1.72566622, 1.73947786, 1.75328951, 1.76710115,\n",
              "        1.7809128 , 1.79472444, 1.80853608, 1.82234773, 1.83615937,\n",
              "        1.84997102, 1.86378266, 1.8775943 , 1.89140595, 1.90521759,\n",
              "        1.91902924, 1.93284088, 1.94665253, 1.96046417, 1.97427581,\n",
              "        1.98808746, 2.0018991 , 2.01571075, 2.02952239, 2.04333403,\n",
              "        2.05714568, 2.07095732, 2.08476897, 2.09858061, 2.11239225,\n",
              "        2.1262039 , 2.14001554, 2.15382719, 2.16763883, 2.18145047,\n",
              "        2.19526212, 2.20907376, 2.22288541, 2.23669705, 2.25050869,\n",
              "        2.26432034]),\n",
              " <a list of 40 Patch objects>)"
            ]
          },
          "metadata": {},
          "execution_count": 254
        },
        {
          "output_type": "display_data",
          "data": {
            "text/plain": [
              "<Figure size 432x288 with 1 Axes>"
            ],
            "image/png": "[encoded data removed]"
          },
          "metadata": {
            "needs_background": "light"
          }
        }
      ]
    },
    {
      "cell_type": "markdown",
      "metadata": {
        "id": "EZsW2abisjKQ"
      },
      "source": [
        "b) Binomial random variable with $n = 20$ and $p = 0.2$"
      ]
    },
    {
      "cell_type": "code",
      "source": [
        "sample=lambda:np.mean(np.random.binomial(20,0.2,size=10))\n",
        "x=[sample() for _ in range(100000)]\n",
        "plt.hist(x,bins=20)"
      ],
      "metadata": {
        "colab": {
          "base_uri": "https://localhost:8080/",
          "height": 404
        },
        "id": "RhBwwvDrjfP4",
        "outputId": "b768d1af-a614-4962-ab68-f0df48f1c788"
      },
      "execution_count": null,
      "outputs": [
        {
          "output_type": "execute_result",
          "data": {
            "text/plain": [
              "(array([4.0000e+00, 4.5000e+01, 1.3900e+02, 9.1600e+02, 1.6450e+03,\n",
              "        6.1760e+03, 7.5420e+03, 1.7018e+04, 1.3893e+04, 2.0427e+04,\n",
              "        1.5785e+04, 7.0350e+03, 5.9440e+03, 1.8690e+03, 1.1630e+03,\n",
              "        2.5900e+02, 1.1400e+02, 1.8000e+01, 6.0000e+00, 2.0000e+00]),\n",
              " array([1.7  , 1.955, 2.21 , 2.465, 2.72 , 2.975, 3.23 , 3.485, 3.74 ,\n",
              "        3.995, 4.25 , 4.505, 4.76 , 5.015, 5.27 , 5.525, 5.78 , 6.035,\n",
              "        6.29 , 6.545, 6.8  ]),\n",
              " <a list of 20 Patch objects>)"
            ]
          },
          "metadata": {},
          "execution_count": 340
        },
        {
          "output_type": "display_data",
          "data": {
            "text/plain": [
              "<Figure size 432x288 with 1 Axes>"
            ],
            "image/png": "[encoded data removed]"
          },
          "metadata": {
            "needs_background": "light"
          }
        }
      ]
    },
    {
      "cell_type": "code",
      "source": [
        "sample=lambda:np.mean(np.random.binomial(20,0.2,size=10))\n",
        "x=[sample() for _ in range(100000)]\n",
        "plt.hist(x,bins=20)"
      ],
      "metadata": {
        "colab": {
          "base_uri": "https://localhost:8080/",
          "height": 404
        },
        "id": "jR1BME3v5hV8",
        "outputId": "ac7dfa0a-8e5e-4346-d399-446eb1bbc4f2"
      },
      "execution_count": null,
      "outputs": [
        {
          "output_type": "execute_result",
          "data": {
            "text/plain": [
              "(array([1.1000e+01, 5.2000e+01, 3.1600e+02, 7.5600e+02, 3.2150e+03,\n",
              "        4.8880e+03, 1.2421e+04, 1.1790e+04, 2.0758e+04, 1.3608e+04,\n",
              "        1.1087e+04, 1.1754e+04, 4.4710e+03, 3.3520e+03, 8.6700e+02,\n",
              "        5.1100e+02, 8.9000e+01, 4.5000e+01, 7.0000e+00, 2.0000e+00]),\n",
              " array([1.8  , 2.045, 2.29 , 2.535, 2.78 , 3.025, 3.27 , 3.515, 3.76 ,\n",
              "        4.005, 4.25 , 4.495, 4.74 , 4.985, 5.23 , 5.475, 5.72 , 5.965,\n",
              "        6.21 , 6.455, 6.7  ]),\n",
              " <a list of 20 Patch objects>)"
            ]
          },
          "metadata": {},
          "execution_count": 343
        },
        {
          "output_type": "display_data",
          "data": {
            "text/plain": [
              "<Figure size 432x288 with 1 Axes>"
            ],
            "image/png": "[encoded data removed]"
          },
          "metadata": {
            "needs_background": "light"
          }
        }
      ]
    },
    {
      "cell_type": "code",
      "source": [
        "sample=lambda:np.mean(np.random.binomial(20,0.2,size=100))\n",
        "x=[sample() for _ in range(90000)]\n",
        "plt.hist(x,bins=20)"
      ],
      "metadata": {
        "colab": {
          "base_uri": "https://localhost:8080/",
          "height": 404
        },
        "id": "I66xczog5sd_",
        "outputId": "de88054b-d450-477a-8ff3-fc6ffaeb990a"
      },
      "execution_count": null,
      "outputs": [
        {
          "output_type": "execute_result",
          "data": {
            "text/plain": [
              "(array([5.0000e+00, 3.6000e+01, 8.7000e+01, 3.6300e+02, 1.0790e+03,\n",
              "        2.8370e+03, 4.8820e+03, 9.5990e+03, 1.1526e+04, 1.5930e+04,\n",
              "        1.5430e+04, 1.0830e+04, 8.8550e+03, 4.4710e+03, 2.5810e+03,\n",
              "        9.4700e+02, 4.0100e+02, 9.9000e+01, 3.3000e+01, 9.0000e+00]),\n",
              " array([3.25  , 3.3255, 3.401 , 3.4765, 3.552 , 3.6275, 3.703 , 3.7785,\n",
              "        3.854 , 3.9295, 4.005 , 4.0805, 4.156 , 4.2315, 4.307 , 4.3825,\n",
              "        4.458 , 4.5335, 4.609 , 4.6845, 4.76  ]),\n",
              " <a list of 20 Patch objects>)"
            ]
          },
          "metadata": {},
          "execution_count": 359
        },
        {
          "output_type": "display_data",
          "data": {
            "text/plain": [
              "<Figure size 432x288 with 1 Axes>"
            ],
            "image/png": "[encoded data removed]"
          },
          "metadata": {
            "needs_background": "light"
          }
        }
      ]
    },
    {
      "cell_type": "markdown",
      "metadata": {
        "id": "GoCoaoE1sjKS"
      },
      "source": [
        "c) Uniform random variable with $a = 2$ and $b = 8$"
      ]
    },
    {
      "cell_type": "code",
      "source": [
        "sample=lambda:np.mean(np.random.uniform(2,8,size=10))\n",
        "x=[sample() for _ in range(60000)]\n",
        "plt.hist(x,bins=20)"
      ],
      "metadata": {
        "colab": {
          "base_uri": "https://localhost:8080/",
          "height": 439
        },
        "id": "ruu5OeSLwEh2",
        "outputId": "2cb9bfaf-4aa2-4fc5-807b-ce58f6acf868"
      },
      "execution_count": null,
      "outputs": [
        {
          "output_type": "execute_result",
          "data": {
            "text/plain": [
              "(array([5.000e+00, 2.000e+01, 9.300e+01, 2.700e+02, 7.200e+02, 1.689e+03,\n",
              "        3.157e+03, 5.211e+03, 7.144e+03, 8.623e+03, 8.811e+03, 8.320e+03,\n",
              "        6.603e+03, 4.504e+03, 2.681e+03, 1.313e+03, 5.450e+02, 2.220e+02,\n",
              "        5.400e+01, 1.500e+01]),\n",
              " array([2.81701279, 3.02815866, 3.23930453, 3.4504504 , 3.66159627,\n",
              "        3.87274214, 4.08388801, 4.29503388, 4.50617975, 4.71732562,\n",
              "        4.92847148, 5.13961735, 5.35076322, 5.56190909, 5.77305496,\n",
              "        5.98420083, 6.1953467 , 6.40649257, 6.61763844, 6.82878431,\n",
              "        7.03993018]),\n",
              " <a list of 20 Patch objects>)"
            ]
          },
          "metadata": {},
          "execution_count": 220
        },
        {
          "output_type": "display_data",
          "data": {
            "text/plain": [
              "<Figure size 432x288 with 1 Axes>"
            ],
            "image/png": "[encoded data removed]"
          },
          "metadata": {
            "needs_background": "light"
          }
        }
      ]
    },
    {
      "cell_type": "code",
      "source": [
        "sample=lambda:np.mean(np.random.uniform(2,8,size=10))\n",
        "x=[sample() for _ in range(70000)]\n",
        "plt.hist(x,bins=20)"
      ],
      "metadata": {
        "colab": {
          "base_uri": "https://localhost:8080/",
          "height": 439
        },
        "id": "emCQ_5nOyXsQ",
        "outputId": "eee615d2-b45e-492f-d4db-95c3cadee4dd"
      },
      "execution_count": null,
      "outputs": [
        {
          "output_type": "execute_result",
          "data": {
            "text/plain": [
              "(array([3.0000e+00, 8.0000e+00, 4.7000e+01, 2.1000e+02, 5.9500e+02,\n",
              "        1.5920e+03, 3.1650e+03, 5.3650e+03, 7.8480e+03, 9.9800e+03,\n",
              "        1.1076e+04, 1.0103e+04, 8.2790e+03, 5.6410e+03, 3.3610e+03,\n",
              "        1.6940e+03, 7.0900e+02, 2.5000e+02, 6.2000e+01, 1.2000e+01]),\n",
              " array([2.69915817, 2.91710857, 3.13505896, 3.35300936, 3.57095975,\n",
              "        3.78891015, 4.00686055, 4.22481094, 4.44276134, 4.66071173,\n",
              "        4.87866213, 5.09661253, 5.31456292, 5.53251332, 5.75046371,\n",
              "        5.96841411, 6.18636451, 6.4043149 , 6.6222653 , 6.84021569,\n",
              "        7.05816609]),\n",
              " <a list of 20 Patch objects>)"
            ]
          },
          "metadata": {},
          "execution_count": 226
        },
        {
          "output_type": "display_data",
          "data": {
            "text/plain": [
              "<Figure size 432x288 with 1 Axes>"
            ],
            "image/png": "[encoded data removed]"
          },
          "metadata": {
            "needs_background": "light"
          }
        }
      ]
    },
    {
      "cell_type": "code",
      "source": [
        "sample=lambda:np.mean(np.random.uniform(2,8,size=10))\n",
        "x=[sample() for _ in range(90000)]\n",
        "plt.hist(x,bins=20)"
      ],
      "metadata": {
        "colab": {
          "base_uri": "https://localhost:8080/",
          "height": 439
        },
        "id": "Hb7i2-1rysxo",
        "outputId": "554417d7-1cd2-472a-9807-dc276e3372d8"
      },
      "execution_count": null,
      "outputs": [
        {
          "output_type": "execute_result",
          "data": {
            "text/plain": [
              "(array([9.0000e+00, 5.1000e+01, 2.0400e+02, 7.2800e+02, 1.9010e+03,\n",
              "        4.2700e+03, 7.6930e+03, 1.1212e+04, 1.4060e+04, 1.4782e+04,\n",
              "        1.3374e+04, 9.9460e+03, 6.4050e+03, 3.3180e+03, 1.4170e+03,\n",
              "        4.6900e+02, 1.2900e+02, 2.9000e+01, 2.0000e+00, 1.0000e+00]),\n",
              " array([2.82696558, 3.06008746, 3.29320934, 3.52633122, 3.7594531 ,\n",
              "        3.99257498, 4.22569686, 4.45881874, 4.69194062, 4.9250625 ,\n",
              "        5.15818438, 5.39130626, 5.62442814, 5.85755002, 6.0906719 ,\n",
              "        6.32379378, 6.55691566, 6.79003754, 7.02315942, 7.2562813 ,\n",
              "        7.48940318]),\n",
              " <a list of 20 Patch objects>)"
            ]
          },
          "metadata": {},
          "execution_count": 229
        },
        {
          "output_type": "display_data",
          "data": {
            "text/plain": [
              "<Figure size 432x288 with 1 Axes>"
            ],
            "image/png": "[encoded data removed]"
          },
          "metadata": {
            "needs_background": "light"
          }
        }
      ]
    }
  ],
  "metadata": {
    "kernelspec": {
      "display_name": "Python 3",
      "language": "python",
      "name": "python3"
    },
    "language_info": {
      "codemirror_mode": {
        "name": "ipython",
        "version": 3
      },
      "file_extension": ".py",
      "mimetype": "text/x-python",
      "name": "python",
      "nbconvert_exporter": "python",
      "pygments_lexer": "ipython3",
      "version": "3.8.5"
    },
    "colab": {
      "provenance": [],
      "include_colab_link": true
    }
  },
  "nbformat": 4,
  "nbformat_minor": 0
}