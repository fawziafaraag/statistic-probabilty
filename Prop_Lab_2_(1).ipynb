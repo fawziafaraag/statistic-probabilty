{
  "cells": [
    {
      "cell_type": "markdown",
      "metadata": {
        "id": "view-in-github",
        "colab_type": "text"
      },
      "source": [
        "<a href=\"https://colab.research.google.com/github/fawziafaraag/statistic-probabilty/blob/main/Prop_Lab_2_(1).ipynb\" target=\"_parent\"><img src=\"https://colab.research.google.com/assets/colab-badge.svg\" alt=\"Open In Colab\"/></a>"
      ]
    },
    {
      "cell_type": "markdown",
      "metadata": {
        "id": "WH7fQaPHzSBf"
      },
      "source": [
        "# LAB 2: Indepdenece and Random Variables\n",
        "\n",
        "In this lab you will use python to study the following topics:\n",
        "\n",
        "- Simulate independent events.\n",
        "- Calculate arthemitic mean, sample variance, and sample standard deviation for a dataset."
      ]
    },
    {
      "cell_type": "markdown",
      "metadata": {
        "id": "54-BhaMQzSBi"
      },
      "source": [
        "# First: you should run this cell"
      ]
    },
    {
      "cell_type": "code",
      "execution_count": null,
      "metadata": {
        "id": "ws9vu06AzSBj"
      },
      "outputs": [],
      "source": [
        "# Make all numpy available via shorter 'np' prefix\n",
        "import numpy as np\n",
        "\n",
        "# matplotlib library\n",
        "import matplotlib.pyplot as plt"
      ]
    },
    {
      "cell_type": "markdown",
      "metadata": {
        "id": "aADRlnx-zSBl"
      },
      "source": [
        "# Problem 1\n",
        "\n",
        "Use NumPy to create simulations and compute **empirical  probability** for the following outcomes. Compare the results with the **theoretical probability**.\n",
        "\n",
        "1. Two fair coin flips produce exactly two heads"
      ]
    },
    {
      "cell_type": "code",
      "source": [
        "\"\"\"\n",
        "# simulate 1 million tests of two fair coin flips\n",
        "tests = np.random.randint(2, size=(int(1e6), 2))\n",
        "\n",
        "# sums of all tests\n",
        "test_sums = tests.sum(axis=1)\n",
        "\n",
        "# proportion of tests that produced exactly two heads\n",
        "(test_sums == 0).mean()\n",
        "\"\"\"\n",
        "H=0\n",
        "for i in range(1,int(1e6)):\n",
        "    coin1=np.random.randint(2)\n",
        "    coin2=np.random.randint(2)\n",
        "    if coin1==coin2==1:\n",
        "        H+=1\n",
        "        \n",
        "print(H/int(1e6))"
      ],
      "metadata": {
        "colab": {
          "base_uri": "https://localhost:8080/"
        },
        "id": "NyiFOgxmzvS_",
        "outputId": "f6bfbf0b-b09e-42d9-9814-0f84da9a43ba"
      },
      "execution_count": null,
      "outputs": [
        {
          "output_type": "stream",
          "name": "stdout",
          "text": [
            "0.249752\n"
          ]
        }
      ]
    },
    {
      "cell_type": "markdown",
      "metadata": {
        "id": "4VaURhNBzSBn"
      },
      "source": [
        "2. Three fair coin flips produce exactly one head"
      ]
    },
    {
      "cell_type": "code",
      "source": [
        "\"\"\"\n",
        "# simulate 1 million tests of two fair coin flips\n",
        "tests = np.random.randint(2, size=(int(1e6), 3))\n",
        "\n",
        "# sums of all tests\n",
        "test_sums = tests.sum(axis=1)\n",
        "\n",
        "# proportion of tests that produced exactly one heads\n",
        "(test_sums == 1).mean()\n",
        "\"\"\"\n",
        "H=0\n",
        "for i in range(1,int(1e6)):\n",
        "    coin1=np.random.randint(2)\n",
        "    coin2=np.random.randint(2)\n",
        "    coin3=np.random.randint(2)\n",
        "    if coin1+coin2+coin3==1:\n",
        "        H+=1\n",
        "        \n",
        "print(H/int(1e6))"
      ],
      "metadata": {
        "colab": {
          "base_uri": "https://localhost:8080/"
        },
        "id": "L8FwuLop1pSs",
        "outputId": "0e7a43f2-4107-4583-83da-85b5ba265328"
      },
      "execution_count": null,
      "outputs": [
        {
          "output_type": "stream",
          "name": "stdout",
          "text": [
            "0.374982\n"
          ]
        }
      ]
    },
    {
      "cell_type": "markdown",
      "metadata": {
        "id": "xkGcMglhzSBo"
      },
      "source": [
        "3. Three biased coin flips with P(H) = 0.6 produce exactly one head"
      ]
    },
    {
      "cell_type": "code",
      "execution_count": null,
      "metadata": {
        "colab": {
          "base_uri": "https://localhost:8080/"
        },
        "id": "2VI3QYD-zSBo",
        "outputId": "392efdcb-acd7-4eda-dd62-35578f77946a"
      },
      "outputs": [
        {
          "output_type": "stream",
          "name": "stdout",
          "text": [
            "0.287899\n"
          ]
        }
      ],
      "source": [
        "\"\"\"\n",
        "#type your code here:\n",
        "# simulate 1 million tests of three biased coin flips\n",
        "tests = np.random.choice([0,1], size=(int(1e6),3), p = [0.6,0.4])\n",
        "\n",
        "# sums of all tests\n",
        "test_sums = tests.sum(axis = 1)\n",
        "\n",
        "# proportion of tests that produced exactly one head\n",
        "(test_sums == 1).mean()\n",
        "\n",
        "\"\"\"\n",
        "H=0\n",
        "coin1=np.random.binomial(n=1 , p= 0.6 , size=int(1e6))\n",
        "coin2=np.random.binomial(n=1 , p= 0.6 , size=int(1e6))\n",
        "coin3=np.random.binomial(n=1 , p= 0.6 , size=int(1e6))\n",
        "for i in range(1,int(1e6)):\n",
        "    if coin1[i]+coin2[i]+coin3[i]==1:\n",
        "        H+=1\n",
        "    \n",
        "print(H/int(1e6))"
      ]
    },
    {
      "cell_type": "markdown",
      "metadata": {
        "id": "Ep0SCUs_zSBp"
      },
      "source": [
        "# Problem 2\n",
        "\n",
        "The probability of rain in a day is p = 0.5. Give the python code to simulate the probability of rain during weekend (**i.e rain on any one of the 2 weekend days Friday Or Saturday**) (assume independence between raining days). Compare the results with the theoretical probability."
      ]
    },
    {
      "cell_type": "code",
      "source": [
        "#type your code here:\n",
        "lst = []\n",
        "for i in range(int(1e6)):\n",
        "    friday_p = np.random.randint(2)\n",
        "    Saturday_p = np.random.randint(2)\n",
        "    x = friday_p + Saturday_p - (friday_p * Saturday_p)\n",
        "    lst.append(x)\n",
        "sum(lst)/1000000"
      ],
      "metadata": {
        "colab": {
          "base_uri": "https://localhost:8080/"
        },
        "id": "OMCIwGAN3xrr",
        "outputId": "fe31903a-2a16-4e8d-d2e1-c111bec29473"
      },
      "execution_count": null,
      "outputs": [
        {
          "output_type": "execute_result",
          "data": {
            "text/plain": [
              "0.749829"
            ]
          },
          "metadata": {},
          "execution_count": 88
        }
      ]
    },
    {
      "cell_type": "markdown",
      "metadata": {
        "id": "qtuH-HzRzSBq"
      },
      "source": [
        "# Problem 3\n",
        "Simulate Rolling a fair die $1000$ times. Then calculate the following:\n",
        "\n",
        "- Sample mean\n",
        "- Sample variance\n",
        "- Sample standard deviation\n",
        "\n",
        "Compare the results with the theoretical probability."
      ]
    },
    {
      "cell_type": "code",
      "source": [
        "#type your code here:\n",
        "x=np.random.choice([1,2,3,4,5,6], size=1000)\n",
        "print(\"Sample mean: \",x.mean())\n",
        "print(\"Sample variance: \",x.var())\n",
        "print(\"Sample standard deviation: \",x.std())"
      ],
      "metadata": {
        "colab": {
          "base_uri": "https://localhost:8080/"
        },
        "id": "k9WCz59f7N-T",
        "outputId": "b95a2a1b-3851-45e3-e8bf-b233db3d37d9"
      },
      "execution_count": null,
      "outputs": [
        {
          "output_type": "stream",
          "name": "stdout",
          "text": [
            "Sample mean:  3.526\n",
            "Sample variance:  2.9533240000000007\n",
            "Sample standard deviation:  1.7185237851132584\n"
          ]
        }
      ]
    }
  ],
  "metadata": {
    "kernelspec": {
      "display_name": "Python 3",
      "language": "python",
      "name": "python3"
    },
    "language_info": {
      "codemirror_mode": {
        "name": "ipython",
        "version": 3
      },
      "file_extension": ".py",
      "mimetype": "text/x-python",
      "name": "python",
      "nbconvert_exporter": "python",
      "pygments_lexer": "ipython3",
      "version": "3.8.5"
    },
    "colab": {
      "provenance": [],
      "include_colab_link": true
    }
  },
  "nbformat": 4,
  "nbformat_minor": 0
}